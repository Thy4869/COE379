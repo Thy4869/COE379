{
 "cells": [
  {
   "cell_type": "code",
   "execution_count": 168,
   "id": "916d068d-eb3b-48e6-a577-3d612612f89c",
   "metadata": {},
   "outputs": [],
   "source": [
    "# part 1\n",
    "import sklearn\n",
    "import pandas as pd"
   ]
  },
  {
   "cell_type": "code",
   "execution_count": 169,
   "id": "4d9c9e25-395d-422e-99fb-f94073b037fd",
   "metadata": {},
   "outputs": [],
   "source": [
    "data = pd.read_csv(\"./data/project1.csv\")"
   ]
  },
  {
   "cell_type": "code",
   "execution_count": 170,
   "id": "d80edb24-0496-4c4f-a2d4-11e93b6665c4",
   "metadata": {},
   "outputs": [
    {
     "data": {
      "text/html": [
       "<div>\n",
       "<style scoped>\n",
       "    .dataframe tbody tr th:only-of-type {\n",
       "        vertical-align: middle;\n",
       "    }\n",
       "\n",
       "    .dataframe tbody tr th {\n",
       "        vertical-align: top;\n",
       "    }\n",
       "\n",
       "    .dataframe thead th {\n",
       "        text-align: right;\n",
       "    }\n",
       "</style>\n",
       "<table border=\"1\" class=\"dataframe\">\n",
       "  <thead>\n",
       "    <tr style=\"text-align: right;\">\n",
       "      <th></th>\n",
       "      <th>mpg</th>\n",
       "      <th>cylinders</th>\n",
       "      <th>displacement</th>\n",
       "      <th>weight</th>\n",
       "      <th>acceleration</th>\n",
       "      <th>model_year</th>\n",
       "      <th>origin</th>\n",
       "    </tr>\n",
       "  </thead>\n",
       "  <tbody>\n",
       "    <tr>\n",
       "      <th>count</th>\n",
       "      <td>390.000000</td>\n",
       "      <td>390.000000</td>\n",
       "      <td>390.000000</td>\n",
       "      <td>390.000000</td>\n",
       "      <td>390.000000</td>\n",
       "      <td>390.000000</td>\n",
       "      <td>390.000000</td>\n",
       "    </tr>\n",
       "    <tr>\n",
       "      <th>mean</th>\n",
       "      <td>23.337949</td>\n",
       "      <td>5.484615</td>\n",
       "      <td>194.724359</td>\n",
       "      <td>2978.676923</td>\n",
       "      <td>15.543846</td>\n",
       "      <td>75.887179</td>\n",
       "      <td>1.576923</td>\n",
       "    </tr>\n",
       "    <tr>\n",
       "      <th>std</th>\n",
       "      <td>7.759300</td>\n",
       "      <td>1.705433</td>\n",
       "      <td>104.910938</td>\n",
       "      <td>852.709438</td>\n",
       "      <td>2.723468</td>\n",
       "      <td>3.633264</td>\n",
       "      <td>0.803579</td>\n",
       "    </tr>\n",
       "    <tr>\n",
       "      <th>min</th>\n",
       "      <td>9.000000</td>\n",
       "      <td>3.000000</td>\n",
       "      <td>68.000000</td>\n",
       "      <td>1613.000000</td>\n",
       "      <td>8.000000</td>\n",
       "      <td>70.000000</td>\n",
       "      <td>1.000000</td>\n",
       "    </tr>\n",
       "    <tr>\n",
       "      <th>25%</th>\n",
       "      <td>17.000000</td>\n",
       "      <td>4.000000</td>\n",
       "      <td>101.750000</td>\n",
       "      <td>2220.750000</td>\n",
       "      <td>13.825000</td>\n",
       "      <td>73.000000</td>\n",
       "      <td>1.000000</td>\n",
       "    </tr>\n",
       "    <tr>\n",
       "      <th>50%</th>\n",
       "      <td>22.350000</td>\n",
       "      <td>4.000000</td>\n",
       "      <td>151.000000</td>\n",
       "      <td>2831.500000</td>\n",
       "      <td>15.500000</td>\n",
       "      <td>76.000000</td>\n",
       "      <td>1.000000</td>\n",
       "    </tr>\n",
       "    <tr>\n",
       "      <th>75%</th>\n",
       "      <td>29.000000</td>\n",
       "      <td>8.000000</td>\n",
       "      <td>293.250000</td>\n",
       "      <td>3618.250000</td>\n",
       "      <td>17.000000</td>\n",
       "      <td>79.000000</td>\n",
       "      <td>2.000000</td>\n",
       "    </tr>\n",
       "    <tr>\n",
       "      <th>max</th>\n",
       "      <td>46.600000</td>\n",
       "      <td>8.000000</td>\n",
       "      <td>455.000000</td>\n",
       "      <td>5140.000000</td>\n",
       "      <td>24.800000</td>\n",
       "      <td>82.000000</td>\n",
       "      <td>3.000000</td>\n",
       "    </tr>\n",
       "  </tbody>\n",
       "</table>\n",
       "</div>"
      ],
      "text/plain": [
       "              mpg   cylinders  displacement       weight  acceleration  \\\n",
       "count  390.000000  390.000000    390.000000   390.000000    390.000000   \n",
       "mean    23.337949    5.484615    194.724359  2978.676923     15.543846   \n",
       "std      7.759300    1.705433    104.910938   852.709438      2.723468   \n",
       "min      9.000000    3.000000     68.000000  1613.000000      8.000000   \n",
       "25%     17.000000    4.000000    101.750000  2220.750000     13.825000   \n",
       "50%     22.350000    4.000000    151.000000  2831.500000     15.500000   \n",
       "75%     29.000000    8.000000    293.250000  3618.250000     17.000000   \n",
       "max     46.600000    8.000000    455.000000  5140.000000     24.800000   \n",
       "\n",
       "       model_year      origin  \n",
       "count  390.000000  390.000000  \n",
       "mean    75.887179    1.576923  \n",
       "std      3.633264    0.803579  \n",
       "min     70.000000    1.000000  \n",
       "25%     73.000000    1.000000  \n",
       "50%     76.000000    1.000000  \n",
       "75%     79.000000    2.000000  \n",
       "max     82.000000    3.000000  "
      ]
     },
     "execution_count": 170,
     "metadata": {},
     "output_type": "execute_result"
    }
   ],
   "source": [
    "data.describe()"
   ]
  },
  {
   "cell_type": "code",
   "execution_count": 171,
   "id": "8d50b2d1-4df3-43f3-9608-4e44b9eb3ea8",
   "metadata": {},
   "outputs": [
    {
     "name": "stdout",
     "output_type": "stream",
     "text": [
      "<class 'pandas.core.frame.DataFrame'>\n",
      "RangeIndex: 390 entries, 0 to 389\n",
      "Data columns (total 9 columns):\n",
      " #   Column        Non-Null Count  Dtype  \n",
      "---  ------        --------------  -----  \n",
      " 0   mpg           390 non-null    float64\n",
      " 1   cylinders     390 non-null    int64  \n",
      " 2   displacement  390 non-null    float64\n",
      " 3   horsepower    390 non-null    object \n",
      " 4   weight        390 non-null    int64  \n",
      " 5   acceleration  390 non-null    float64\n",
      " 6   model_year    390 non-null    int64  \n",
      " 7   origin        390 non-null    int64  \n",
      " 8   car_name      390 non-null    object \n",
      "dtypes: float64(3), int64(4), object(2)\n",
      "memory usage: 27.5+ KB\n"
     ]
    }
   ],
   "source": [
    "data.info()"
   ]
  },
  {
   "cell_type": "code",
   "execution_count": 172,
   "id": "db719183-912c-4ee7-8a6a-3f1f29ae0142",
   "metadata": {},
   "outputs": [
    {
     "data": {
      "text/plain": [
       "mpg             0\n",
       "cylinders       0\n",
       "displacement    0\n",
       "horsepower      0\n",
       "weight          0\n",
       "acceleration    0\n",
       "model_year      0\n",
       "origin          0\n",
       "car_name        0\n",
       "dtype: int64"
      ]
     },
     "execution_count": 172,
     "metadata": {},
     "output_type": "execute_result"
    }
   ],
   "source": [
    "# check for the null values\n",
    "data.isnull().sum()"
   ]
  },
  {
   "cell_type": "code",
   "execution_count": 173,
   "id": "6028cbb9-5d29-48b3-9763-8739c54b4842",
   "metadata": {},
   "outputs": [
    {
     "data": {
      "text/plain": [
       "3510"
      ]
     },
     "execution_count": 173,
     "metadata": {},
     "output_type": "execute_result"
    }
   ],
   "source": [
    "data.size"
   ]
  },
  {
   "cell_type": "code",
   "execution_count": 174,
   "id": "106fe87c-bfb6-4e1a-8003-9cc874370912",
   "metadata": {},
   "outputs": [],
   "source": [
    "data = data.convert_dtypes()"
   ]
  },
  {
   "cell_type": "code",
   "execution_count": 175,
   "id": "e78495e7-0515-4a27-ae92-f906551101ff",
   "metadata": {},
   "outputs": [
    {
     "data": {
      "text/plain": [
       "(390, 9)"
      ]
     },
     "execution_count": 175,
     "metadata": {},
     "output_type": "execute_result"
    }
   ],
   "source": [
    "data.shape"
   ]
  },
  {
   "cell_type": "code",
   "execution_count": 176,
   "id": "bc800bc1-1cfd-40fd-a87e-65d7cb6769d1",
   "metadata": {},
   "outputs": [
    {
     "data": {
      "text/html": [
       "<div>\n",
       "<style scoped>\n",
       "    .dataframe tbody tr th:only-of-type {\n",
       "        vertical-align: middle;\n",
       "    }\n",
       "\n",
       "    .dataframe tbody tr th {\n",
       "        vertical-align: top;\n",
       "    }\n",
       "\n",
       "    .dataframe thead th {\n",
       "        text-align: right;\n",
       "    }\n",
       "</style>\n",
       "<table border=\"1\" class=\"dataframe\">\n",
       "  <thead>\n",
       "    <tr style=\"text-align: right;\">\n",
       "      <th></th>\n",
       "      <th>mpg</th>\n",
       "      <th>cylinders</th>\n",
       "      <th>displacement</th>\n",
       "      <th>horsepower</th>\n",
       "      <th>weight</th>\n",
       "      <th>acceleration</th>\n",
       "      <th>model_year</th>\n",
       "      <th>origin</th>\n",
       "      <th>car_name</th>\n",
       "    </tr>\n",
       "  </thead>\n",
       "  <tbody>\n",
       "    <tr>\n",
       "      <th>0</th>\n",
       "      <td>18.0</td>\n",
       "      <td>8</td>\n",
       "      <td>307.0</td>\n",
       "      <td>130</td>\n",
       "      <td>3504</td>\n",
       "      <td>12.0</td>\n",
       "      <td>70</td>\n",
       "      <td>1</td>\n",
       "      <td>chevrolet chevelle malibu</td>\n",
       "    </tr>\n",
       "    <tr>\n",
       "      <th>1</th>\n",
       "      <td>15.0</td>\n",
       "      <td>8</td>\n",
       "      <td>350.0</td>\n",
       "      <td>165</td>\n",
       "      <td>3693</td>\n",
       "      <td>11.5</td>\n",
       "      <td>70</td>\n",
       "      <td>1</td>\n",
       "      <td>buick skylark 320</td>\n",
       "    </tr>\n",
       "    <tr>\n",
       "      <th>2</th>\n",
       "      <td>18.0</td>\n",
       "      <td>8</td>\n",
       "      <td>318.0</td>\n",
       "      <td>150</td>\n",
       "      <td>3436</td>\n",
       "      <td>11.0</td>\n",
       "      <td>70</td>\n",
       "      <td>1</td>\n",
       "      <td>plymouth satellite</td>\n",
       "    </tr>\n",
       "    <tr>\n",
       "      <th>3</th>\n",
       "      <td>16.0</td>\n",
       "      <td>8</td>\n",
       "      <td>304.0</td>\n",
       "      <td>150</td>\n",
       "      <td>3433</td>\n",
       "      <td>12.0</td>\n",
       "      <td>70</td>\n",
       "      <td>1</td>\n",
       "      <td>amc rebel sst</td>\n",
       "    </tr>\n",
       "    <tr>\n",
       "      <th>4</th>\n",
       "      <td>17.0</td>\n",
       "      <td>8</td>\n",
       "      <td>302.0</td>\n",
       "      <td>140</td>\n",
       "      <td>3449</td>\n",
       "      <td>10.5</td>\n",
       "      <td>70</td>\n",
       "      <td>1</td>\n",
       "      <td>ford torino</td>\n",
       "    </tr>\n",
       "  </tbody>\n",
       "</table>\n",
       "</div>"
      ],
      "text/plain": [
       "    mpg  cylinders  displacement horsepower  weight  acceleration  model_year  \\\n",
       "0  18.0          8         307.0        130    3504          12.0          70   \n",
       "1  15.0          8         350.0        165    3693          11.5          70   \n",
       "2  18.0          8         318.0        150    3436          11.0          70   \n",
       "3  16.0          8         304.0        150    3433          12.0          70   \n",
       "4  17.0          8         302.0        140    3449          10.5          70   \n",
       "\n",
       "   origin                   car_name  \n",
       "0       1  chevrolet chevelle malibu  \n",
       "1       1          buick skylark 320  \n",
       "2       1         plymouth satellite  \n",
       "3       1              amc rebel sst  \n",
       "4       1                ford torino  "
      ]
     },
     "execution_count": 176,
     "metadata": {},
     "output_type": "execute_result"
    }
   ],
   "source": [
    "data.head()"
   ]
  },
  {
   "cell_type": "code",
   "execution_count": 177,
   "id": "0cb4513c-2eff-4895-8e3f-7977215be344",
   "metadata": {
    "scrolled": true
   },
   "outputs": [],
   "source": [
    "# There are some non-numeric value that would give an error when use .astype function so following removes these errors\n",
    "# Convert non-numeric values to NaN in the horsepower column <- chatgpt helps\n",
    "data['horsepower'] = pd.to_numeric(data['horsepower'], errors='coerce')\n",
    "\n",
    "# Drop rows with NaN values in the horsepower column <- chatgpt helps\n",
    "data.dropna(subset=['horsepower'], inplace=True)\n",
    "\n",
    "# Convert horsepower column to float\n",
    "data['horsepower'] = data['horsepower'].astype(float)"
   ]
  },
  {
   "cell_type": "code",
   "execution_count": 178,
   "id": "f2819bfd-cea6-40c3-a677-a8e9a3755486",
   "metadata": {},
   "outputs": [
    {
     "name": "stdout",
     "output_type": "stream",
     "text": [
      "<class 'pandas.core.frame.DataFrame'>\n",
      "Index: 384 entries, 0 to 389\n",
      "Data columns (total 9 columns):\n",
      " #   Column        Non-Null Count  Dtype  \n",
      "---  ------        --------------  -----  \n",
      " 0   mpg           384 non-null    Float64\n",
      " 1   cylinders     384 non-null    Int64  \n",
      " 2   displacement  384 non-null    Float64\n",
      " 3   horsepower    384 non-null    float64\n",
      " 4   weight        384 non-null    Int64  \n",
      " 5   acceleration  384 non-null    Float64\n",
      " 6   model_year    384 non-null    Int64  \n",
      " 7   origin        384 non-null    Int64  \n",
      " 8   car_name      384 non-null    string \n",
      "dtypes: Float64(3), Int64(4), float64(1), string(1)\n",
      "memory usage: 32.6 KB\n"
     ]
    }
   ],
   "source": [
    "data.info()"
   ]
  },
  {
   "cell_type": "code",
   "execution_count": 179,
   "id": "fe3fed99-b9c8-42e0-b7fb-727a67fd9556",
   "metadata": {},
   "outputs": [
    {
     "data": {
      "text/plain": [
       "False"
      ]
     },
     "execution_count": 179,
     "metadata": {},
     "output_type": "execute_result"
    }
   ],
   "source": [
    "data.isnull().values.any()"
   ]
  },
  {
   "cell_type": "code",
   "execution_count": 180,
   "id": "0406f4f6-90d9-4341-837f-3dd8e43193fa",
   "metadata": {},
   "outputs": [
    {
     "data": {
      "image/png": "[encoded data removed]",
      "text/plain": [
       "<Figure size 640x480 with 1 Axes>"
      ]
     },
     "metadata": {},
     "output_type": "display_data"
    }
   ],
   "source": [
    "import seaborn as sns\n",
    "import matplotlib.pyplot as plt\n",
    "sns.countplot(data=data,x='origin')\n",
    "plt.show()"
   ]
  },
  {
   "cell_type": "code",
   "execution_count": 181,
   "id": "5a92d70f-0b44-450d-9236-d4f529f84827",
   "metadata": {},
   "outputs": [],
   "source": [
    "# hot encoding the origin variables\n",
    "from sklearn.preprocessing import OneHotEncoder\n",
    "encoder = OneHotEncoder(sparse_output=False)\n",
    "origin_encoder = encoder.fit_transform(data[['origin']])\n",
    "origin_encoder_pd = pd.DataFrame(origin_encoder, columns=encoder.get_feature_names_out(['origin']))\n",
    "data = pd.concat([data.drop('origin',axis=1), origin_encoder_pd], axis=1)"
   ]
  },
  {
   "cell_type": "code",
   "execution_count": 182,
   "id": "ee359a0f-9f56-4fbe-9cca-b66b07aebca0",
   "metadata": {},
   "outputs": [
    {
     "name": "stdout",
     "output_type": "stream",
     "text": [
      "<class 'pandas.core.frame.DataFrame'>\n",
      "Index: 390 entries, 0 to 374\n",
      "Data columns (total 11 columns):\n",
      " #   Column        Non-Null Count  Dtype  \n",
      "---  ------        --------------  -----  \n",
      " 0   mpg           384 non-null    Float64\n",
      " 1   cylinders     384 non-null    Int64  \n",
      " 2   displacement  384 non-null    Float64\n",
      " 3   horsepower    384 non-null    float64\n",
      " 4   weight        384 non-null    Int64  \n",
      " 5   acceleration  384 non-null    Float64\n",
      " 6   model_year    384 non-null    Int64  \n",
      " 7   car_name      384 non-null    string \n",
      " 8   origin_1.0    384 non-null    float64\n",
      " 9   origin_2.0    384 non-null    float64\n",
      " 10  origin_3.0    384 non-null    float64\n",
      "dtypes: Float64(3), Int64(3), float64(4), string(1)\n",
      "memory usage: 38.8 KB\n"
     ]
    }
   ],
   "source": [
    "# show new encoded data\n",
    "data.info()"
   ]
  },
  {
   "cell_type": "code",
   "execution_count": 183,
   "id": "d260d648-6f7c-4e75-acb5-0f8ee7db86e0",
   "metadata": {},
   "outputs": [
    {
     "data": {
      "text/plain": [
       "mpg             6\n",
       "cylinders       6\n",
       "displacement    6\n",
       "horsepower      6\n",
       "weight          6\n",
       "acceleration    6\n",
       "model_year      6\n",
       "car_name        6\n",
       "origin_1.0      6\n",
       "origin_2.0      6\n",
       "origin_3.0      6\n",
       "dtype: int64"
      ]
     },
     "execution_count": 183,
     "metadata": {},
     "output_type": "execute_result"
    }
   ],
   "source": [
    "# check new encoded data\n",
    "data.isnull().sum()"
   ]
  },
  {
   "cell_type": "code",
   "execution_count": 184,
   "id": "4ec7da68-3c11-463b-aceb-182cb7a8fa11",
   "metadata": {},
   "outputs": [],
   "source": [
    "# drop new null data\n",
    "data = data.dropna()"
   ]
  },
  {
   "cell_type": "code",
   "execution_count": 185,
   "id": "cc6b5590-8a70-4de5-b26d-858235658e81",
   "metadata": {},
   "outputs": [
    {
     "data": {
      "text/html": [
       "<div>\n",
       "<style scoped>\n",
       "    .dataframe tbody tr th:only-of-type {\n",
       "        vertical-align: middle;\n",
       "    }\n",
       "\n",
       "    .dataframe tbody tr th {\n",
       "        vertical-align: top;\n",
       "    }\n",
       "\n",
       "    .dataframe thead th {\n",
       "        text-align: right;\n",
       "    }\n",
       "</style>\n",
       "<table border=\"1\" class=\"dataframe\">\n",
       "  <thead>\n",
       "    <tr style=\"text-align: right;\">\n",
       "      <th></th>\n",
       "      <th>mpg</th>\n",
       "      <th>cylinders</th>\n",
       "      <th>displacement</th>\n",
       "      <th>horsepower</th>\n",
       "      <th>weight</th>\n",
       "      <th>acceleration</th>\n",
       "      <th>model_year</th>\n",
       "      <th>origin_1.0</th>\n",
       "      <th>origin_2.0</th>\n",
       "      <th>origin_3.0</th>\n",
       "    </tr>\n",
       "  </thead>\n",
       "  <tbody>\n",
       "    <tr>\n",
       "      <th>mpg</th>\n",
       "      <td>1.000000</td>\n",
       "      <td>-0.782705</td>\n",
       "      <td>-0.813887</td>\n",
       "      <td>-0.779397</td>\n",
       "      <td>-0.838449</td>\n",
       "      <td>0.422668</td>\n",
       "      <td>0.563888</td>\n",
       "      <td>-0.409709</td>\n",
       "      <td>0.161711</td>\n",
       "      <td>0.341897</td>\n",
       "    </tr>\n",
       "    <tr>\n",
       "      <th>cylinders</th>\n",
       "      <td>-0.782705</td>\n",
       "      <td>1.000000</td>\n",
       "      <td>0.951563</td>\n",
       "      <td>0.843112</td>\n",
       "      <td>0.899112</td>\n",
       "      <td>-0.515151</td>\n",
       "      <td>-0.328735</td>\n",
       "      <td>0.412366</td>\n",
       "      <td>-0.234379</td>\n",
       "      <td>-0.276276</td>\n",
       "    </tr>\n",
       "    <tr>\n",
       "      <th>displacement</th>\n",
       "      <td>-0.813887</td>\n",
       "      <td>0.951563</td>\n",
       "      <td>1.000000</td>\n",
       "      <td>0.897875</td>\n",
       "      <td>0.933690</td>\n",
       "      <td>-0.551978</td>\n",
       "      <td>-0.363324</td>\n",
       "      <td>0.430121</td>\n",
       "      <td>-0.240132</td>\n",
       "      <td>-0.292281</td>\n",
       "    </tr>\n",
       "    <tr>\n",
       "      <th>horsepower</th>\n",
       "      <td>-0.779397</td>\n",
       "      <td>0.843112</td>\n",
       "      <td>0.897875</td>\n",
       "      <td>1.000000</td>\n",
       "      <td>0.863962</td>\n",
       "      <td>-0.697182</td>\n",
       "      <td>-0.409057</td>\n",
       "      <td>0.336197</td>\n",
       "      <td>-0.152009</td>\n",
       "      <td>-0.262259</td>\n",
       "    </tr>\n",
       "    <tr>\n",
       "      <th>weight</th>\n",
       "      <td>-0.838449</td>\n",
       "      <td>0.899112</td>\n",
       "      <td>0.933690</td>\n",
       "      <td>0.863962</td>\n",
       "      <td>1.000000</td>\n",
       "      <td>-0.423957</td>\n",
       "      <td>-0.296683</td>\n",
       "      <td>0.416527</td>\n",
       "      <td>-0.202620</td>\n",
       "      <td>-0.311386</td>\n",
       "    </tr>\n",
       "    <tr>\n",
       "      <th>acceleration</th>\n",
       "      <td>0.422668</td>\n",
       "      <td>-0.515151</td>\n",
       "      <td>-0.551978</td>\n",
       "      <td>-0.697182</td>\n",
       "      <td>-0.423957</td>\n",
       "      <td>1.000000</td>\n",
       "      <td>0.294794</td>\n",
       "      <td>-0.166578</td>\n",
       "      <td>0.114679</td>\n",
       "      <td>0.092661</td>\n",
       "    </tr>\n",
       "    <tr>\n",
       "      <th>model_year</th>\n",
       "      <td>0.563888</td>\n",
       "      <td>-0.328735</td>\n",
       "      <td>-0.363324</td>\n",
       "      <td>-0.409057</td>\n",
       "      <td>-0.296683</td>\n",
       "      <td>0.294794</td>\n",
       "      <td>1.000000</td>\n",
       "      <td>-0.142193</td>\n",
       "      <td>-0.041030</td>\n",
       "      <td>0.210681</td>\n",
       "    </tr>\n",
       "    <tr>\n",
       "      <th>origin_1.0</th>\n",
       "      <td>-0.409709</td>\n",
       "      <td>0.412366</td>\n",
       "      <td>0.430121</td>\n",
       "      <td>0.336197</td>\n",
       "      <td>0.416527</td>\n",
       "      <td>-0.166578</td>\n",
       "      <td>-0.142193</td>\n",
       "      <td>1.000000</td>\n",
       "      <td>-0.592934</td>\n",
       "      <td>-0.646718</td>\n",
       "    </tr>\n",
       "    <tr>\n",
       "      <th>origin_2.0</th>\n",
       "      <td>0.161711</td>\n",
       "      <td>-0.234379</td>\n",
       "      <td>-0.240132</td>\n",
       "      <td>-0.152009</td>\n",
       "      <td>-0.202620</td>\n",
       "      <td>0.114679</td>\n",
       "      <td>-0.041030</td>\n",
       "      <td>-0.592934</td>\n",
       "      <td>1.000000</td>\n",
       "      <td>-0.230727</td>\n",
       "    </tr>\n",
       "    <tr>\n",
       "      <th>origin_3.0</th>\n",
       "      <td>0.341897</td>\n",
       "      <td>-0.276276</td>\n",
       "      <td>-0.292281</td>\n",
       "      <td>-0.262259</td>\n",
       "      <td>-0.311386</td>\n",
       "      <td>0.092661</td>\n",
       "      <td>0.210681</td>\n",
       "      <td>-0.646718</td>\n",
       "      <td>-0.230727</td>\n",
       "      <td>1.000000</td>\n",
       "    </tr>\n",
       "  </tbody>\n",
       "</table>\n",
       "</div>"
      ],
      "text/plain": [
       "                   mpg  cylinders  displacement  horsepower    weight  \\\n",
       "mpg           1.000000  -0.782705     -0.813887   -0.779397 -0.838449   \n",
       "cylinders    -0.782705   1.000000      0.951563    0.843112  0.899112   \n",
       "displacement -0.813887   0.951563      1.000000    0.897875  0.933690   \n",
       "horsepower   -0.779397   0.843112      0.897875    1.000000  0.863962   \n",
       "weight       -0.838449   0.899112      0.933690    0.863962  1.000000   \n",
       "acceleration  0.422668  -0.515151     -0.551978   -0.697182 -0.423957   \n",
       "model_year    0.563888  -0.328735     -0.363324   -0.409057 -0.296683   \n",
       "origin_1.0   -0.409709   0.412366      0.430121    0.336197  0.416527   \n",
       "origin_2.0    0.161711  -0.234379     -0.240132   -0.152009 -0.202620   \n",
       "origin_3.0    0.341897  -0.276276     -0.292281   -0.262259 -0.311386   \n",
       "\n",
       "              acceleration  model_year  origin_1.0  origin_2.0  origin_3.0  \n",
       "mpg               0.422668    0.563888   -0.409709    0.161711    0.341897  \n",
       "cylinders        -0.515151   -0.328735    0.412366   -0.234379   -0.276276  \n",
       "displacement     -0.551978   -0.363324    0.430121   -0.240132   -0.292281  \n",
       "horsepower       -0.697182   -0.409057    0.336197   -0.152009   -0.262259  \n",
       "weight           -0.423957   -0.296683    0.416527   -0.202620   -0.311386  \n",
       "acceleration      1.000000    0.294794   -0.166578    0.114679    0.092661  \n",
       "model_year        0.294794    1.000000   -0.142193   -0.041030    0.210681  \n",
       "origin_1.0       -0.166578   -0.142193    1.000000   -0.592934   -0.646718  \n",
       "origin_2.0        0.114679   -0.041030   -0.592934    1.000000   -0.230727  \n",
       "origin_3.0        0.092661    0.210681   -0.646718   -0.230727    1.000000  "
      ]
     },
     "execution_count": 185,
     "metadata": {},
     "output_type": "execute_result"
    }
   ],
   "source": [
    "# Drop the 'car_name' column before calculating the correlation matrix <- chatgpt helps on dropping the string variable column\n",
    "# Because the car name does not help fit the model as a string type categorical variable\n",
    "corrData = data.drop(columns=['car_name'])\n",
    "\n",
    "correlation_matrix = corrData.corr()\n",
    "correlation_matrix\n",
    "# according to this table, Cylinders, Displacement, Horsepower, and Weight are strong negative correlations with fuel efficiency (mpg) as their correlation values are close to 1 or -1 than the other variables."
   ]
  },
  {
   "cell_type": "code",
   "execution_count": 186,
   "id": "7f66adb9-7d8e-4475-b716-471c2b993960",
   "metadata": {},
   "outputs": [
    {
     "data": {
      "text/plain": [
       "mpg             0\n",
       "cylinders       0\n",
       "displacement    0\n",
       "horsepower      0\n",
       "weight          0\n",
       "acceleration    0\n",
       "model_year      0\n",
       "origin_1.0      0\n",
       "origin_2.0      0\n",
       "origin_3.0      0\n",
       "dtype: int64"
      ]
     },
     "execution_count": 186,
     "metadata": {},
     "output_type": "execute_result"
    }
   ],
   "source": [
    "corrData.isnull().sum()"
   ]
  },
  {
   "cell_type": "code",
   "execution_count": 187,
   "id": "7e82031d-0d1a-4995-afd3-859cdd7e7d4d",
   "metadata": {},
   "outputs": [
    {
     "data": {
      "text/plain": [
       "<Axes: xlabel='Count', ylabel='mpg'>"
      ]
     },
     "execution_count": 187,
     "metadata": {},
     "output_type": "execute_result"
    },
    {
     "data": {
      "image/png": "[encoded data removed]",
      "text/plain": [
       "<Figure size 640x480 with 1 Axes>"
      ]
     },
     "metadata": {},
     "output_type": "display_data"
    }
   ],
   "source": [
    "# visualize the univariate variables\n",
    "import matplotlib.pyplot as plt\n",
    "import seaborn as sns\n",
    "# mpg\n",
    "sns.histplot(y=data['mpg'])"
   ]
  },
  {
   "cell_type": "code",
   "execution_count": 188,
   "id": "fd6827d5-a873-47c2-a91a-011bb9334ed3",
   "metadata": {},
   "outputs": [
    {
     "data": {
      "text/plain": [
       "<Axes: ylabel='model_year'>"
      ]
     },
     "execution_count": 188,
     "metadata": {},
     "output_type": "execute_result"
    },
    {
     "data": {
      "image/png": "[encoded data removed]",
      "text/plain": [
       "<Figure size 640x480 with 1 Axes>"
      ]
     },
     "metadata": {},
     "output_type": "display_data"
    }
   ],
   "source": [
    "# model year\n",
    "sns.lineplot(data=data['model_year'])"
   ]
  },
  {
   "cell_type": "code",
   "execution_count": 189,
   "id": "491e30b5-f7a0-4e6c-99a3-0e4f735b1796",
   "metadata": {},
   "outputs": [
    {
     "data": {
      "text/plain": [
       "<Axes: xlabel='count', ylabel='cylinders'>"
      ]
     },
     "execution_count": 189,
     "metadata": {},
     "output_type": "execute_result"
    },
    {
     "data": {
      "image/png": "[encoded data removed]",
      "text/plain": [
       "<Figure size 640x480 with 1 Axes>"
      ]
     },
     "metadata": {},
     "output_type": "display_data"
    }
   ],
   "source": [
    "# cylinders\n",
    "sns.countplot(y=data['cylinders'])"
   ]
  },
  {
   "cell_type": "code",
   "execution_count": 190,
   "id": "0f5c1701-4325-4e6e-9505-a6106e78e67b",
   "metadata": {},
   "outputs": [
    {
     "data": {
      "text/plain": [
       "<Axes: xlabel='horsepower', ylabel='acceleration'>"
      ]
     },
     "execution_count": 190,
     "metadata": {},
     "output_type": "execute_result"
    },
    {
     "data": {
      "image/png": "[encoded data removed]",
      "text/plain": [
       "<Figure size 640x480 with 1 Axes>"
      ]
     },
     "metadata": {},
     "output_type": "display_data"
    }
   ],
   "source": [
    "# Compare two variables\n",
    "# horse power vs acceleration\n",
    "sns.scatterplot(x='horsepower',y='acceleration',data=data)"
   ]
  },
  {
   "cell_type": "code",
   "execution_count": 191,
   "id": "c997c697-19b2-42f6-b870-2acdef3dc947",
   "metadata": {},
   "outputs": [
    {
     "data": {
      "text/plain": [
       "<Axes: xlabel='model_year', ylabel='weight'>"
      ]
     },
     "execution_count": 191,
     "metadata": {},
     "output_type": "execute_result"
    },
    {
     "data": {
      "image/png": "[encoded data removed]",
      "text/plain": [
       "<Figure size 640x480 with 1 Axes>"
      ]
     },
     "metadata": {},
     "output_type": "display_data"
    }
   ],
   "source": [
    "# model year vs weight\n",
    "sns.barplot(x='model_year',y='weight',data=data)"
   ]
  },
  {
   "cell_type": "code",
   "execution_count": 192,
   "id": "e28ba289-ae90-4e2b-9049-ff1cf768b061",
   "metadata": {},
   "outputs": [
    {
     "data": {
      "text/plain": [
       "<Axes: xlabel='cylinders', ylabel='mpg'>"
      ]
     },
     "execution_count": 192,
     "metadata": {},
     "output_type": "execute_result"
    },
    {
     "data": {
      "image/png": "[encoded data removed]",
      "text/plain": [
       "<Figure size 640x480 with 1 Axes>"
      ]
     },
     "metadata": {},
     "output_type": "display_data"
    }
   ],
   "source": [
    "# cylinders vs mpg\n",
    "sns.boxplot(x='cylinders',y='mpg',data=data)"
   ]
  },
  {
   "cell_type": "code",
   "execution_count": 198,
   "id": "8cc69eb2-9370-49d9-aa63-39410493f664",
   "metadata": {},
   "outputs": [],
   "source": [
    "###"
   ]
  },
  {
   "cell_type": "code",
   "execution_count": 197,
   "id": "2b53c6b9-a792-4161-bf4b-7e5bec59109f",
   "metadata": {},
   "outputs": [],
   "source": [
    "# part 2\n",
    "from sklearn.model_selection import train_test_split\n",
    "y = corrData['mpg']\n",
    "X = corrData.drop('mpg',axis=1)\n",
    "X_train, X_test, y_train, y_test = train_test_split(X, y, test_size=0.3, random_state=1)"
   ]
  },
  {
   "cell_type": "code",
   "execution_count": 199,
   "id": "785de9ab-7fc5-431b-975b-e874a968037f",
   "metadata": {},
   "outputs": [
    {
     "data": {
      "text/html": [
       "<style>#sk-container-id-2 {color: black;}#sk-container-id-2 pre{padding: 0;}#sk-container-id-2 div.sk-toggleable {background-color: white;}#sk-container-id-2 label.sk-toggleable__label {cursor: pointer;display: block;width: 100%;margin-bottom: 0;padding: 0.3em;box-sizing: border-box;text-align: center;}#sk-container-id-2 label.sk-toggleable__label-arrow:before {content: \"▸\";float: left;margin-right: 0.25em;color: #696969;}#sk-container-id-2 label.sk-toggleable__label-arrow:hover:before {color: black;}#sk-container-id-2 div.sk-estimator:hover label.sk-toggleable__label-arrow:before {color: black;}#sk-container-id-2 div.sk-toggleable__content {max-height: 0;max-width: 0;overflow: hidden;text-align: left;background-color: #f0f8ff;}#sk-container-id-2 div.sk-toggleable__content pre {margin: 0.2em;color: black;border-radius: 0.25em;background-color: #f0f8ff;}#sk-container-id-2 input.sk-toggleable__control:checked~div.sk-toggleable__content {max-height: 200px;max-width: 100%;overflow: auto;}#sk-container-id-2 input.sk-toggleable__control:checked~label.sk-toggleable__label-arrow:before {content: \"▾\";}#sk-container-id-2 div.sk-estimator input.sk-toggleable__control:checked~label.sk-toggleable__label {background-color: #d4ebff;}#sk-container-id-2 div.sk-label input.sk-toggleable__control:checked~label.sk-toggleable__label {background-color: #d4ebff;}#sk-container-id-2 input.sk-hidden--visually {border: 0;clip: rect(1px 1px 1px 1px);clip: rect(1px, 1px, 1px, 1px);height: 1px;margin: -1px;overflow: hidden;padding: 0;position: absolute;width: 1px;}#sk-container-id-2 div.sk-estimator {font-family: monospace;background-color: #f0f8ff;border: 1px dotted black;border-radius: 0.25em;box-sizing: border-box;margin-bottom: 0.5em;}#sk-container-id-2 div.sk-estimator:hover {background-color: #d4ebff;}#sk-container-id-2 div.sk-parallel-item::after {content: \"\";width: 100%;border-bottom: 1px solid gray;flex-grow: 1;}#sk-container-id-2 div.sk-label:hover label.sk-toggleable__label {background-color: #d4ebff;}#sk-container-id-2 div.sk-serial::before {content: \"\";position: absolute;border-left: 1px solid gray;box-sizing: border-box;top: 0;bottom: 0;left: 50%;z-index: 0;}#sk-container-id-2 div.sk-serial {display: flex;flex-direction: column;align-items: center;background-color: white;padding-right: 0.2em;padding-left: 0.2em;position: relative;}#sk-container-id-2 div.sk-item {position: relative;z-index: 1;}#sk-container-id-2 div.sk-parallel {display: flex;align-items: stretch;justify-content: center;background-color: white;position: relative;}#sk-container-id-2 div.sk-item::before, #sk-container-id-2 div.sk-parallel-item::before {content: \"\";position: absolute;border-left: 1px solid gray;box-sizing: border-box;top: 0;bottom: 0;left: 50%;z-index: -1;}#sk-container-id-2 div.sk-parallel-item {display: flex;flex-direction: column;z-index: 1;position: relative;background-color: white;}#sk-container-id-2 div.sk-parallel-item:first-child::after {align-self: flex-end;width: 50%;}#sk-container-id-2 div.sk-parallel-item:last-child::after {align-self: flex-start;width: 50%;}#sk-container-id-2 div.sk-parallel-item:only-child::after {width: 0;}#sk-container-id-2 div.sk-dashed-wrapped {border: 1px dashed gray;margin: 0 0.4em 0.5em 0.4em;box-sizing: border-box;padding-bottom: 0.4em;background-color: white;}#sk-container-id-2 div.sk-label label {font-family: monospace;font-weight: bold;display: inline-block;line-height: 1.2em;}#sk-container-id-2 div.sk-label-container {text-align: center;}#sk-container-id-2 div.sk-container {/* jupyter's `normalize.less` sets `[hidden] { display: none; }` but bootstrap.min.css set `[hidden] { display: none !important; }` so we also need the `!important` here to be able to override the default hidden behavior on the sphinx rendered scikit-learn.org. See: https://github.com/scikit-learn/scikit-learn/issues/21755 */display: inline-block !important;position: relative;}#sk-container-id-2 div.sk-text-repr-fallback {display: none;}</style><div id=\"sk-container-id-2\" class=\"sk-top-container\"><div class=\"sk-text-repr-fallback\"><pre>LinearRegression()</pre><b>In a Jupyter environment, please rerun this cell to show the HTML representation or trust the notebook. <br />On GitHub, the HTML representation is unable to render, please try loading this page with nbviewer.org.</b></div><div class=\"sk-container\" hidden><div class=\"sk-item\"><div class=\"sk-estimator sk-toggleable\"><input class=\"sk-toggleable__control sk-hidden--visually\" id=\"sk-estimator-id-2\" type=\"checkbox\" checked><label for=\"sk-estimator-id-2\" class=\"sk-toggleable__label sk-toggleable__label-arrow\">LinearRegression</label><div class=\"sk-toggleable__content\"><pre>LinearRegression()</pre></div></div></div></div></div>"
      ],
      "text/plain": [
       "LinearRegression()"
      ]
     },
     "execution_count": 199,
     "metadata": {},
     "output_type": "execute_result"
    }
   ],
   "source": [
    "# linear regrssion modeling\n",
    "from sklearn.linear_model import LinearRegression\n",
    "\n",
    "model = LinearRegression()\n",
    "model.fit(X_train, y_train)"
   ]
  },
  {
   "cell_type": "code",
   "execution_count": 210,
   "id": "bfd88e3f-2085-4d62-8b4d-c32da8cf1957",
   "metadata": {},
   "outputs": [
    {
     "name": "stdout",
     "output_type": "stream",
     "text": [
      "The measurement of how close the regrssion line to the data: 14.45\n",
      "The score shows accuracy of the fit is: 0.80\n"
     ]
    }
   ],
   "source": [
    "# Find the accuracy score from the linear regression model of test data\n",
    "from sklearn.metrics import mean_squared_error, r2_score\n",
    "\n",
    "y_test_pred = model.predict(X_test)\n",
    "meanSquaredError = mean_squared_error(y_test, y_test_pred)\n",
    "accuracy_score = r2_score(y_test, y_test_pred)\n",
    "print('The measurement of how close the regrssion line to the data: %.2f' % meanSquaredError)\n",
    "print('The score shows accuracy of the fit is: %.2f' % accuracy_score)"
   ]
  },
  {
   "cell_type": "code",
   "execution_count": 212,
   "id": "a9a3c233-c9dc-4c18-9179-96fe021879b9",
   "metadata": {},
   "outputs": [
    {
     "name": "stdout",
     "output_type": "stream",
     "text": [
      "The measurement of how close the regrssion line to the data: 9.58\n",
      "The score shows accuracy of the fit is: 0.82\n",
      "Cylinders, Displacement, Horsepower, and Weight: These measures are important as they directly relate to the engine's power and size, which can vary significantly based on the vehicle's origin. Different regions might have distinct preferences for engine types and sizes, affecting the origin prediction.\n",
      "Model Year: This measure provides information about the vehicle's age and technological advancements incorporated into newer models. Newer models tend to have different engineering standards and may reflect improvements in fuel efficiency, safety, and performance.\n"
     ]
    }
   ],
   "source": [
    "# Find the accuracy score from the linear regression model of train data\n",
    "y_train_pred = model.predict(X_train)\n",
    "meanSquaredError = mean_squared_error(y_train, y_train_pred)\n",
    "accuracy_score = r2_score(y_train, y_train_pred)\n",
    "print('The measurement of how close the regrssion line to the data: %.2f' % meanSquaredError) # better than test data\n",
    "print('The score shows accuracy of the fit is: %.2f' % accuracy_score) # not 100%\n",
    "print(\"Cylinders, Displacement, Horsepower, and Weight: These measures are important as they directly relate to the engine's power and size, which can vary significantly based on the vehicle's origin. Different regions might have distinct preferences for engine types and sizes, affecting the origin prediction.\\nModel Year: This measure provides information about the vehicle's age and technological advancements incorporated into newer models. Newer models tend to have different engineering standards and may reflect improvements in fuel efficiency, safety, and performance.\")"
   ]
  },
  {
   "cell_type": "code",
   "execution_count": 216,
   "id": "faf97fab-878a-4d19-b538-3eba953e7d56",
   "metadata": {},
   "outputs": [
    {
     "data": {
      "text/plain": [
       "Text(0.5, 1.0, 'Test MPG')"
      ]
     },
     "execution_count": 216,
     "metadata": {},
     "output_type": "execute_result"
    },
    {
     "data": {
      "image/png": "[encoded data removed]",
      "text/plain": [
       "<Figure size 640x480 with 1 Axes>"
      ]
     },
     "metadata": {},
     "output_type": "display_data"
    }
   ],
   "source": [
    "# Visualize the predicted test data vs real data\n",
    "sns.scatterplot(x=y_test, y=y_test_pred)\n",
    "plt.xlabel(\"Actual\")\n",
    "plt.ylabel(\"Predicted\")\n",
    "plt.title(\"Test MPG\")"
   ]
  },
  {
   "cell_type": "code",
   "execution_count": 215,
   "id": "899f3539-89cb-4578-b2b5-e23ccd0e53a1",
   "metadata": {},
   "outputs": [
    {
     "data": {
      "text/plain": [
       "Text(0.5, 1.0, 'Train MPG')"
      ]
     },
     "execution_count": 215,
     "metadata": {},
     "output_type": "execute_result"
    },
    {
     "data": {
      "image/png": "[encoded data removed]",
      "text/plain": [
       "<Figure size 640x480 with 1 Axes>"
      ]
     },
     "metadata": {},
     "output_type": "display_data"
    }
   ],
   "source": [
    "# Visualize the predicted train data vs real data\n",
    "sns.scatterplot(x=y_train, y=y_train_pred)\n",
    "plt.xlabel(\"Actual\")\n",
    "plt.ylabel(\"Predicted\")\n",
    "plt.title(\"Train MPG\")"
   ]
  },
  {
   "cell_type": "code",
   "execution_count": null,
   "id": "e2695654-3fb9-449b-9f3a-582892c7f465",
   "metadata": {},
   "outputs": [],
   "source": []
  }
 ],
 "metadata": {
  "kernelspec": {
   "display_name": "Python 3 (ipykernel)",
   "language": "python",
   "name": "python3"
  },
  "language_info": {
   "codemirror_mode": {
    "name": "ipython",
    "version": 3
   },
   "file_extension": ".py",
   "mimetype": "text/x-python",
   "name": "python",
   "nbconvert_exporter": "python",
   "pygments_lexer": "ipython3",
   "version": "3.11.1"
  }
 },
 "nbformat": 4,
 "nbformat_minor": 5
}
